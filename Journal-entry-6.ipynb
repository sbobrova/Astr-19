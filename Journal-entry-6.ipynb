{
 "cells": [
  {
   "cell_type": "code",
   "execution_count": 19,
   "id": "03ec80b7-4b31-4981-b3bb-0af40dfe0ae1",
   "metadata": {},
   "outputs": [],
   "source": [
    "import numpy as np #imports the numpy library"
   ]
  },
  {
   "cell_type": "code",
   "execution_count": 20,
   "id": "c51c4859-d2aa-4d9c-8994-ad0aa461045e",
   "metadata": {},
   "outputs": [],
   "source": [
    "def sin_function(x): #takes x and returns the function sin(x) using the numpy library\n",
    "    return np.sin(x)"
   ]
  },
  {
   "cell_type": "code",
   "execution_count": 21,
   "id": "84189e1a-25d9-47a0-97bb-4428c7146aa3",
   "metadata": {},
   "outputs": [],
   "source": [
    "def cos_function(x): #takes x and returns the function cos(x) using the numpy library\n",
    "    return np.cos(x)"
   ]
  },
  {
   "cell_type": "code",
   "execution_count": 22,
   "id": "c935a805-ed3b-427d-82c6-d2fc936d0762",
   "metadata": {},
   "outputs": [],
   "source": [
    "x_values=np.linspace(0,2*np.pi,1000)  #tabulates the sin and cos functions between 0 and 2pi\n",
    "sin_values=sin_function(x_values)     #also creates an array of 1000 values that are\n",
    "cos_values=cos_function(x_values)     #equally spaced between 0 and 2pi"
   ]
  },
  {
   "cell_type": "code",
   "execution_count": 23,
   "id": "06d1e753-6677-45b1-9724-0840e439a8fb",
   "metadata": {},
   "outputs": [
    {
     "name": "stdout",
     "output_type": "stream",
     "text": [
      "x         sin(x)         cos(x)\n",
      "----------------------------------------\n",
      "    0.0000     0.00000000     1.00000000\n",
      "    0.0063     0.00628943     0.99998022\n",
      "    0.0126     0.01257862     0.99992089\n",
      "    0.0189     0.01886730     0.99982200\n",
      "    0.0252     0.02515525     0.99968356\n",
      "    0.0314     0.03144219     0.99950557\n",
      "    0.0377     0.03772789     0.99928805\n",
      "    0.0440     0.04401210     0.99903100\n",
      "    0.0503     0.05029457     0.99873443\n",
      "    0.0566     0.05657505     0.99839835\n"
     ]
    }
   ],
   "source": [
    "print(f\"{'x':.10}{'sin(x)':>15}{'cos(x)':>15}\") #this displays the first 10 values in columns\n",
    "print('-'*40)\n",
    "for i in range(10):\n",
    "    print(f\"{x_values[i]:10.4f}{sin_values[i]:15.8f}{cos_values[i]:15.8f}\")"
   ]
  }
 ],
 "metadata": {
  "kernelspec": {
   "display_name": "Python 3 (ipykernel)",
   "language": "python",
   "name": "python3"
  },
  "language_info": {
   "codemirror_mode": {
    "name": "ipython",
    "version": 3
   },
   "file_extension": ".py",
   "mimetype": "text/x-python",
   "name": "python",
   "nbconvert_exporter": "python",
   "pygments_lexer": "ipython3",
   "version": "3.13.7"
  }
 },
 "nbformat": 4,
 "nbformat_minor": 5
}
